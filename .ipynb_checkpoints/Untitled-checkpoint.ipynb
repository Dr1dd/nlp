{
 "cells": [
  {
   "cell_type": "code",
   "execution_count": null,
   "metadata": {},
   "outputs": [
    {
     "name": "stdout",
     "output_type": "stream",
     "text": [
      " * Serving Flask app \"__main__\" (lazy loading)\n",
      " * Environment: production\n",
      "   WARNING: This is a development server. Do not use it in a production deployment.\n",
      "   Use a production WSGI server instead.\n",
      " * Debug mode: off\n"
     ]
    },
    {
     "name": "stderr",
     "output_type": "stream",
     "text": [
      " * Running on http://127.0.0.1:5000/ (Press CTRL+C to quit)\n",
      "127.0.0.1 - - [03/Apr/2021 16:59:51] \"\u001b[37mOPTIONS /get-locations HTTP/1.1\u001b[0m\" 200 -\n"
     ]
    },
    {
     "name": "stdout",
     "output_type": "stream",
     "text": [
      "Tekstas Vilnius, Lietuva\n"
     ]
    },
    {
     "name": "stderr",
     "output_type": "stream",
     "text": [
      "127.0.0.1 - - [03/Apr/2021 17:00:11] \"\u001b[37mPOST /get-locations HTTP/1.1\u001b[0m\" 200 -\n"
     ]
    }
   ],
   "source": [
    "from flask import Flask\n",
    "import spacy\n",
    "import json\n",
    "from flask import request\n",
    "from flask import jsonify\n",
    "from flask_cors import CORS\n",
    "from nltk.tokenize import RegexpTokenizer\n",
    "\n",
    "class Loc:\n",
    "    def __init__(self, x, y, z): \n",
    "        self.type = x\n",
    "        self.text = y\n",
    "        self.text_location = z\n",
    "    def toJSON(self):\n",
    "        return json.dumps(self, default=lambda o: o.__dict__, sort_keys=True)\n",
    "        \n",
    "\n",
    "app = Flask(__name__)\n",
    "CORS(app)\n",
    "@app.route(\"/get-locations\", methods = ['POST'])\n",
    "def locations():\n",
    "    content = request.get_json()\n",
    "    print(content['text'])\n",
    "    nlp = spacy.load('en_core_web_lg')\n",
    "    gpe = []\n",
    "    loc = []\n",
    "    location = []\n",
    "    list_1 = []\n",
    "\n",
    "    doc = nlp(content['text'])\n",
    "    for ent in doc.ents:\n",
    "        if (ent.label_ == 'GPE'):\n",
    "            obj =Loc(\"GPE\", ent.text, [ent.start_char, ent.end_char])\n",
    "            list_1.append(obj.toJSON())\n",
    "            gpe.append(ent.text)\n",
    "        elif (ent.label_ == 'LOC'):\n",
    "            obj =Loc('LOC', ent.text, [ent.start_char, ent.end_char])\n",
    "            list_1.append(obj.toJSON())\n",
    "            loc.append(ent.text)\n",
    "    \n",
    "    response = jsonify(list_1)\n",
    "    # Enable Access-Control-Allow-Origin\n",
    "    response.headers.add(\"Access-Control-Allow-Origin\", \"*\")\n",
    "    return response\n",
    "\n",
    "if __name__ == \"__main__\":\n",
    "    app.run()"
   ]
  },
  {
   "cell_type": "code",
   "execution_count": null,
   "metadata": {},
   "outputs": [
    {
     "name": "stdout",
     "output_type": "stream",
     "text": [
      "Requirement already satisfied: socket.py in c:\\python39\\lib\\site-packages (0.1.0)\n"
     ]
    }
   ],
   "source": []
  },
  {
   "cell_type": "code",
   "execution_count": null,
   "metadata": {},
   "outputs": [],
   "source": []
  },
  {
   "cell_type": "code",
   "execution_count": null,
   "metadata": {},
   "outputs": [],
   "source": []
  }
 ],
 "metadata": {
  "kernelspec": {
   "display_name": "Python [conda env:nlp_vu]",
   "language": "python",
   "name": "conda-env-nlp_vu-py"
  },
  "language_info": {
   "codemirror_mode": {
    "name": "ipython",
    "version": 3
   },
   "file_extension": ".py",
   "mimetype": "text/x-python",
   "name": "python",
   "nbconvert_exporter": "python",
   "pygments_lexer": "ipython3",
   "version": "3.7.9"
  }
 },
 "nbformat": 4,
 "nbformat_minor": 5
}
