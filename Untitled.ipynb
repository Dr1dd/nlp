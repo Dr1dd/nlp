{
 "cells": [
  {
   "cell_type": "code",
   "execution_count": 1,
   "id": "northern-blade",
   "metadata": {},
   "outputs": [
    {
     "name": "stdout",
     "output_type": "stream",
     "text": [
      " * Serving Flask app \"__main__\" (lazy loading)\n",
      " * Environment: production\n",
      "   WARNING: This is a development server. Do not use it in a production deployment.\n",
      "   Use a production WSGI server instead.\n",
      " * Debug mode: off\n"
     ]
    },
    {
     "name": "stderr",
     "output_type": "stream",
     "text": [
      " * Running on http://127.0.0.1:5000/ (Press CTRL+C to quit)\n",
      "127.0.0.1 - - [07/Mar/2021 20:30:55] \"\u001b[37mOPTIONS /get-locations HTTP/1.1\u001b[0m\" 200 -\n"
     ]
    },
    {
     "name": "stdout",
     "output_type": "stream",
     "text": [
      "Lithuania\n"
     ]
    },
    {
     "name": "stderr",
     "output_type": "stream",
     "text": [
      "127.0.0.1 - - [07/Mar/2021 20:30:56] \"\u001b[37mPOST /get-locations HTTP/1.1\u001b[0m\" 200 -\n"
     ]
    },
    {
     "name": "stdout",
     "output_type": "stream",
     "text": [
      "[] []\n"
     ]
    },
    {
     "name": "stderr",
     "output_type": "stream",
     "text": [
      "127.0.0.1 - - [07/Mar/2021 20:31:31] \"\u001b[37mOPTIONS /get-locations HTTP/1.1\u001b[0m\" 200 -\n"
     ]
    },
    {
     "name": "stdout",
     "output_type": "stream",
     "text": [
      "Lithuania, Lietuva, Russia, England\n"
     ]
    },
    {
     "name": "stderr",
     "output_type": "stream",
     "text": [
      "127.0.0.1 - - [07/Mar/2021 20:31:32] \"\u001b[37mPOST /get-locations HTTP/1.1\u001b[0m\" 200 -\n"
     ]
    },
    {
     "name": "stdout",
     "output_type": "stream",
     "text": [
      "['Lithuania', 'Lietuva', 'Russia', 'England'] []\n"
     ]
    },
    {
     "name": "stderr",
     "output_type": "stream",
     "text": [
      "127.0.0.1 - - [07/Mar/2021 20:33:38] \"\u001b[37mOPTIONS /get-locations HTTP/1.1\u001b[0m\" 200 -\n"
     ]
    },
    {
     "name": "stdout",
     "output_type": "stream",
     "text": [
      "Vilnius, Lithuania, Lietuva, Russia\n"
     ]
    },
    {
     "name": "stderr",
     "output_type": "stream",
     "text": [
      "127.0.0.1 - - [07/Mar/2021 20:33:39] \"\u001b[37mPOST /get-locations HTTP/1.1\u001b[0m\" 200 -\n"
     ]
    },
    {
     "name": "stdout",
     "output_type": "stream",
     "text": [
      "['Lithuania', 'Lietuva', 'Russia'] []\n"
     ]
    },
    {
     "name": "stderr",
     "output_type": "stream",
     "text": [
      "127.0.0.1 - - [07/Mar/2021 20:36:09] \"\u001b[33mGET / HTTP/1.1\u001b[0m\" 404 -\n",
      "127.0.0.1 - - [07/Mar/2021 20:36:12] \"\u001b[37mOPTIONS /get-locations HTTP/1.1\u001b[0m\" 200 -\n"
     ]
    },
    {
     "name": "stdout",
     "output_type": "stream",
     "text": [
      "Amsterdam\n",
      "The largest city and national capital of the Netherlands (Holland), famous for its 17th-century buildings and canals (grachten) and its museums with their collections of Dutch paintings by famous artists like Vermeer, van Gogh, Brueghel, Hieronymus Bosch, Frans Hals, and Rembrandt.\n",
      " \t \n",
      "\n",
      " \n",
      "\n",
      "\n",
      " \n",
      "\n",
      "\n",
      " \n",
      "Ankara\n",
      "Formerly known as Angora, second largest city and the national capital of Turkey, situated in the Anatolia region. The city is not only Turkey's center for political power but also known for its performing arts, home to several national theater companies, the Turkish State orchestra, and the State Opera and Ballet.\n",
      " \n",
      "Athens (Athína)\n",
      "One of the oldest cities in the world, named after the Greek goddess Athena, today the municipality of Athens is the national capital of Greece. Inhabited since unknown times, in Ancient Greece (508–322 BC) it was one of Greece's major urban centers and a city-state (polis).\n",
      " \n",
      "Atlantic City\n",
      "Resort city and gaming mecca on America's East Coast, home of the Miss America Pageant, site of the world famous Boardwalk in the State of New Jersey. For over a century it was one of America’s most prominent holiday destinations on the East Coast. It is the city that inspired the American version of the board game Monopoly.\n",
      " \n",
      "Baltimore\n",
      "Largest city in Maryland, USA.\n",
      " \n",
      "Bangkok (Krung Thep)\n",
      "Thailand's national capital, its largest city and the country's main cultural center.\n",
      " \n",
      "Beijing (Peking)\n",
      "The national capital and second largest city of China.\n",
      " \n"
     ]
    },
    {
     "name": "stderr",
     "output_type": "stream",
     "text": [
      "127.0.0.1 - - [07/Mar/2021 20:36:13] \"\u001b[37mPOST /get-locations HTTP/1.1\u001b[0m\" 200 -\n"
     ]
    },
    {
     "name": "stdout",
     "output_type": "stream",
     "text": [
      "['the Netherlands (', 'Holland', 'Turkey', 'Anatolia', 'Turkey', 'Athens', 'Athens', 'Greece', 'Greece', 'Atlantic City', '\\n', 'America', 'New Jersey', 'America', 'Maryland', 'USA', '\\n \\n', 'Bangkok', 'Thailand', 'Beijing', 'Peking', '\\n', 'China'] ['Angora', 'East Coast', 'the East Coast']\n"
     ]
    },
    {
     "name": "stderr",
     "output_type": "stream",
     "text": [
      "127.0.0.1 - - [07/Mar/2021 20:36:25] \"\u001b[37mOPTIONS /get-locations HTTP/1.1\u001b[0m\" 200 -\n"
     ]
    },
    {
     "name": "stdout",
     "output_type": "stream",
     "text": [
      "Amsterdam\n",
      "The largest city and national capital of the Netherlands (Holland), famous for its 17th-century buildings and canals (grachten) and its museums with their collections of Dutch paintings by famous artists like Vermeer, van Gogh, Brueghel, Hieronymus Bosch, Frans Hals, and Rembrandt.\n",
      " \t \n",
      "\n",
      " \n",
      "\n",
      "\n",
      " \n",
      "\n",
      "\n",
      " \n",
      "Ankara\n",
      "Formerly known as Angora, second largest city and the national capital of Turkey, situated in the Anatolia region. The city is not only Turkey's center for political power but also known for its performing arts, home to several national theater companies, the Turkish State orchestra, and the State Opera and Ballet.\n",
      " \n",
      "Athens (Athína)\n",
      "One of the oldest cities in the world, named after the Greek goddess Athena, today the municipality of Athens is the national capital of Greece. Inhabited since unknown times, in Ancient Greece (508–322 BC) it was one of Greece's major urban centers and a city-state (polis).\n",
      " \n",
      "Atlantic City\n",
      "Resort city and gaming mecca on America's East Coast, home of the Miss America Pageant, site of the world famous Boardwalk in the State of New Jersey. For over a century it was one of America’s most prominent holiday destinations on the East Coast. It is the city that inspired the American version of the board game Monopoly.\n",
      " \n",
      "Baltimore\n",
      "Largest city in Maryland, USA.\n",
      " \n",
      "Bangkok (Krung Thep)\n",
      "Thailand's national capital, its largest city and the country's main cultural center.\n",
      " \n",
      "Beijing (Peking)\n",
      "The national capital and second largest city of China.\n",
      " \n"
     ]
    },
    {
     "name": "stderr",
     "output_type": "stream",
     "text": [
      "127.0.0.1 - - [07/Mar/2021 20:36:26] \"\u001b[37mPOST /get-locations HTTP/1.1\u001b[0m\" 200 -\n"
     ]
    },
    {
     "name": "stdout",
     "output_type": "stream",
     "text": [
      "['the Netherlands (', 'Holland', 'Turkey', 'Anatolia', 'Turkey', 'Athens', 'Athens', 'Greece', 'Greece', 'Atlantic City', '\\n', 'America', 'New Jersey', 'America', 'Maryland', 'USA', '\\n \\n', 'Bangkok', 'Thailand', 'Beijing', 'Peking', '\\n', 'China'] ['Angora', 'East Coast', 'the East Coast']\n"
     ]
    },
    {
     "name": "stderr",
     "output_type": "stream",
     "text": [
      "127.0.0.1 - - [07/Mar/2021 20:36:53] \"\u001b[37mOPTIONS /get-locations HTTP/1.1\u001b[0m\" 200 -\n"
     ]
    },
    {
     "name": "stdout",
     "output_type": "stream",
     "text": [
      "Amsterdam\n",
      "The largest city and national capital of the Netherlands (Holland), famous for its 17th-century buildings and canals (grachten) and its museums with their collections of Dutch paintings by famous artists like Vermeer, van Gogh, Brueghel, Hieronymus Bosch, Frans Hals, and Rembrandt.\n",
      " \t \n",
      "\n",
      " \n",
      "\n",
      "\n",
      " \n",
      "\n",
      "\n",
      " \n",
      "Ankara\n",
      "Formerly known as Angora, second largest city and the national capital of Turkey, situated in the Anatolia region. The city is not only Turkey's center for political power but also known for its performing arts, home to several national theater companies, the Turkish State orchestra, and the State Opera and Ballet.\n",
      " \n",
      "Athens (Athína)\n",
      "One of the oldest cities in the world, named after the Greek goddess Athena, today the municipality of Athens is the national capital of Greece. Inhabited since unknown times, in Ancient Greece (508–322 BC) it was one of Greece's major urban centers and a city-state (polis).\n",
      " \n",
      "Atlantic City\n",
      "Resort city and gaming mecca on America's East Coast, home of the Miss America Pageant, site of the world famous Boardwalk in the State of New Jersey. For over a century it was one of America’s most prominent holiday destinations on the East Coast. It is the city that inspired the American version of the board game Monopoly.\n",
      " \n",
      "Baltimore\n",
      "Largest city in Maryland, USA.\n",
      " \n",
      "Bangkok (Krung Thep)\n",
      "Thailand's national capital, its largest city and the country's main cultural center.\n",
      " \n",
      "Beijing (Peking)\n",
      "The national capital and second largest city of China.\n",
      " \n"
     ]
    },
    {
     "name": "stderr",
     "output_type": "stream",
     "text": [
      "127.0.0.1 - - [07/Mar/2021 20:36:54] \"\u001b[37mPOST /get-locations HTTP/1.1\u001b[0m\" 200 -\n"
     ]
    },
    {
     "name": "stdout",
     "output_type": "stream",
     "text": [
      "['the Netherlands (', 'Holland', 'Turkey', 'Anatolia', 'Turkey', 'Athens', 'Athens', 'Greece', 'Greece', 'Atlantic City', '\\n', 'America', 'New Jersey', 'America', 'Maryland', 'USA', '\\n \\n', 'Bangkok', 'Thailand', 'Beijing', 'Peking', '\\n', 'China'] ['Angora', 'East Coast', 'the East Coast']\n"
     ]
    },
    {
     "name": "stderr",
     "output_type": "stream",
     "text": [
      "127.0.0.1 - - [07/Mar/2021 20:42:23] \"\u001b[37mOPTIONS /get-locations HTTP/1.1\u001b[0m\" 200 -\n"
     ]
    },
    {
     "name": "stdout",
     "output_type": "stream",
     "text": [
      "Amsterdam\n",
      "The largest city and national capital of the Netherlands (Holland), famous for its 17th-century buildings and canals (grachten) and its museums with their collections of Dutch paintings by famous artists like Vermeer, van Gogh, Brueghel, Hieronymus Bosch, Frans Hals, and Rembrandt.\n",
      " \t \n",
      "\n",
      " \n",
      "\n",
      "\n",
      " \n",
      "\n",
      "\n",
      " \n",
      "Ankara\n",
      "Formerly known as Angora, second largest city and the national capital of Turkey, situated in the Anatolia region. The city is not only Turkey's center for political power but also known for its performing arts, home to several national theater companies, the Turkish State orchestra, and the State Opera and Ballet.\n",
      " \n",
      "Athens (Athína)\n",
      "One of the oldest cities in the world, named after the Greek goddess Athena, today the municipality of Athens is the national capital of Greece. Inhabited since unknown times, in Ancient Greece (508–322 BC) it was one of Greece's major urban centers and a city-state (polis).\n",
      " \n",
      "Atlantic City\n",
      "Resort city and gaming mecca on America's East Coast, home of the Miss America Pageant, site of the world famous Boardwalk in the State of New Jersey. For over a century it was one of America’s most prominent holiday destinations on the East Coast. It is the city that inspired the American version of the board game Monopoly.\n",
      " \n",
      "Baltimore\n",
      "Largest city in Maryland, USA.\n",
      " \n",
      "Bangkok (Krung Thep)\n",
      "Thailand's national capital, its largest city and the country's main cultural center.\n",
      " \n",
      "Beijing (Peking)\n",
      "The national capital and second largest city of China.dsaddddddddddddddddddddddddddddddddddddddddddddddddddddddddddddddddddddddddddddddddddddddddddddddddddd\n",
      " \n",
      "Amsterdam\n",
      "The largest city and national capital of the Netherlands (Holland), famous for its 17th-century buildings and canals (grachten) and its museums with their collections of Dutch paintings by famous artists like Vermeer, van Gogh, Brueghel, Hieronymus Bosch, Frans Hals, and Rembrandt.\n",
      " \t \n",
      "\n",
      " \n",
      "\n",
      "\n",
      " \n",
      "\n",
      "\n",
      " \n",
      "Ankara\n",
      "Formerly known as Angora, second largest city and the national capital of Turkey, situated in the Anatolia region. The city is not only Turkey's center for political power but also known for its performing arts, home to several national theater companies, the Turkish State orchestra, and the State Opera and Ballet.\n",
      " \n",
      "Athens (Athína)\n",
      "One of the oldest cities in the world, named after the Greek goddess Athena, today the municipality of Athens is the national capital of Greece. Inhabited since unknown times, in Ancient Greece (508–322 BC) it was one of Greece's major urban centers and a city-state (polis).\n",
      " \n",
      "Atlantic City\n",
      "Resort city and gaming mecca on America's East Coast, home of the Miss America Pageant, site of the world famous Boardwalk in the State of New Jersey. For over a century it was one of America’s most prominent holiday destinations on the East Coast. It is the city that inspired the American version of the board game Monopoly.\n",
      " \n",
      "Baltimore\n",
      "Largest city in Maryland, USA.\n",
      " \n",
      "Bangkok (Krung Thep)\n",
      "Thailand's national capital, its largest city and the country's main cultural center.\n",
      " \n",
      "Beijing (Peking)\n",
      "The national capital and second largest city of China.dsaddddddddddddddddddddddddddddddddddddddddddddddddddddddddddddddddddddddddddddddddddddddddddddddddddd\n",
      " \n"
     ]
    },
    {
     "name": "stderr",
     "output_type": "stream",
     "text": [
      "127.0.0.1 - - [07/Mar/2021 20:42:24] \"\u001b[37mPOST /get-locations HTTP/1.1\u001b[0m\" 200 -\n",
      "127.0.0.1 - - [07/Mar/2021 20:42:24] \"\u001b[37mPOST /get-locations HTTP/1.1\u001b[0m\" 200 -\n"
     ]
    },
    {
     "name": "stdout",
     "output_type": "stream",
     "text": [
      "['the Netherlands (', 'Holland', 'Turkey', 'Anatolia', 'Turkey', 'Athens', 'Athens', 'Greece', 'Greece', 'Atlantic City', '\\n', 'America', 'New Jersey', 'America', 'Maryland', 'USA', '\\n \\n', 'Bangkok', 'Thailand', 'Beijing', 'Peking', '\\n'] ['Angora', 'East Coast', 'the East Coast']\n",
      "['the Netherlands (', 'Holland', 'Turkey', 'Anatolia', 'Turkey', 'Athens', 'Athens', 'Greece', 'Greece', 'Atlantic City', '\\n', 'America', 'New Jersey', 'America', 'Maryland', 'USA', '\\n \\n', 'Bangkok', 'Thailand', 'Beijing', 'Peking', '\\n'] ['Angora', 'East Coast', 'the East Coast']\n"
     ]
    }
   ],
   "source": [
    "from flask import Flask\n",
    "import spacy\n",
    "from flask import request\n",
    "from flask import jsonify\n",
    "from flask_cors import CORS\n",
    "app = Flask(__name__)\n",
    "CORS(app)\n",
    "@app.route(\"/get-locations\", methods = ['POST'])\n",
    "def locations():\n",
    "    content = request.get_json()\n",
    "    print(content['text'])\n",
    "    nlp = spacy.load('en_core_web_sm')\n",
    "    gpe = []\n",
    "    loc = []\n",
    "    doc = nlp(content['text'])\n",
    "    for ent in doc.ents:\n",
    "        if (ent.label_ == 'GPE'):\n",
    "            gpe.append(ent.text)\n",
    "        elif (ent.label_ == 'LOC'):\n",
    "            loc.append(ent.text)\n",
    "    print(gpe, loc)\n",
    "    response = jsonify(gpe, loc)\n",
    "\n",
    "    # Enable Access-Control-Allow-Origin\n",
    "    response.headers.add(\"Access-Control-Allow-Origin\", \"*\")\n",
    "    return response\n",
    "\n",
    "if __name__ == \"__main__\":\n",
    "    app.run()"
   ]
  },
  {
   "cell_type": "code",
   "execution_count": null,
   "id": "referenced-uncertainty",
   "metadata": {},
   "outputs": [
    {
     "name": "stdout",
     "output_type": "stream",
     "text": [
      "Requirement already satisfied: socket.py in c:\\python39\\lib\\site-packages (0.1.0)\n"
     ]
    }
   ],
   "source": []
  },
  {
   "cell_type": "code",
   "execution_count": null,
   "id": "expected-spain",
   "metadata": {},
   "outputs": [],
   "source": []
  },
  {
   "cell_type": "code",
   "execution_count": null,
   "id": "specific-welsh",
   "metadata": {},
   "outputs": [],
   "source": []
  }
 ],
 "metadata": {
  "kernelspec": {
   "display_name": "Python [conda env:nlp_vu] *",
   "language": "python",
   "name": "conda-env-nlp_vu-py"
  },
  "language_info": {
   "codemirror_mode": {
    "name": "ipython",
    "version": 3
   },
   "file_extension": ".py",
   "mimetype": "text/x-python",
   "name": "python",
   "nbconvert_exporter": "python",
   "pygments_lexer": "ipython3",
   "version": "3.7.9"
  }
 },
 "nbformat": 4,
 "nbformat_minor": 5
}
