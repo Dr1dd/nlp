{
 "cells": [
  {
   "cell_type": "code",
   "execution_count": 32,
   "metadata": {},
   "outputs": [
    {
     "name": "stdout",
     "output_type": "stream",
     "text": [
      "['Lithuania', 'Russia', 'Lietuva', 'Poland', 'New York'] []\n"
     ]
    }
   ],
   "source": [
    "import spacy\n",
    "nlp = spacy.load('en_core_web_sm')\n",
    "\n",
    "gpe = []\n",
    "loc = []\n",
    "\n",
    "\n",
    "doc = nlp(open('text.txt').read())\n",
    "for ent in doc.ents:\n",
    "    if (ent.label_ == 'GPE'):\n",
    "        gpe.append(ent.text)\n",
    "    elif (ent.label_ == 'LOC'):\n",
    "        loc.append(ent.text)\n",
    "\n",
    "print(gpe, loc)\n"
   ]
  },
  {
   "cell_type": "code",
   "execution_count": null,
   "metadata": {},
   "outputs": [],
   "source": []
  },
  {
   "cell_type": "code",
   "execution_count": null,
   "metadata": {},
   "outputs": [],
   "source": []
  }
 ],
 "metadata": {
  "kernelspec": {
   "display_name": "Python [conda env:nlp_vu]",
   "language": "python",
   "name": "conda-env-nlp_vu-py"
  }
 },
 "nbformat": 4,
 "nbformat_minor": 5
}
