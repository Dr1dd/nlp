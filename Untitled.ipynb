{
 "cells": [
  {
   "cell_type": "code",
   "execution_count": null,
   "metadata": {},
   "outputs": [
    {
     "name": "stdout",
     "output_type": "stream",
     "text": [
      " * Serving Flask app \"__main__\" (lazy loading)\n",
      " * Environment: production\n",
      "   WARNING: This is a development server. Do not use it in a production deployment.\n",
      "   Use a production WSGI server instead.\n",
      " * Debug mode: off\n"
     ]
    },
    {
     "name": "stderr",
     "output_type": "stream",
     "text": [
      " * Running on http://127.0.0.1:5000/ (Press CTRL+C to quit)\n",
      "127.0.0.1 - - [03/Apr/2021 17:06:41] \"\u001b[37mOPTIONS /get-locations HTTP/1.1\u001b[0m\" 200 -\n"
     ]
    },
    {
     "name": "stdout",
     "output_type": "stream",
     "text": [
      "Tekstas Vilnius Lietuva\n"
     ]
    },
    {
     "name": "stderr",
     "output_type": "stream",
     "text": [
      "127.0.0.1 - - [03/Apr/2021 17:06:51] \"\u001b[37mPOST /get-locations HTTP/1.1\u001b[0m\" 200 -\n",
      "127.0.0.1 - - [03/Apr/2021 17:10:57] \"\u001b[37mOPTIONS /get-locations HTTP/1.1\u001b[0m\" 200 -\n"
     ]
    },
    {
     "name": "stdout",
     "output_type": "stream",
     "text": [
      "tekstas Vilnius Tekstas Lietuva\n"
     ]
    },
    {
     "name": "stderr",
     "output_type": "stream",
     "text": [
      "127.0.0.1 - - [03/Apr/2021 17:11:08] \"\u001b[37mPOST /get-locations HTTP/1.1\u001b[0m\" 200 -\n",
      "127.0.0.1 - - [03/Apr/2021 17:13:12] \"\u001b[37mOPTIONS /get-locations HTTP/1.1\u001b[0m\" 200 -\n"
     ]
    },
    {
     "name": "stdout",
     "output_type": "stream",
     "text": [
      "Tekstas Lietuva Vilnius\n"
     ]
    },
    {
     "name": "stderr",
     "output_type": "stream",
     "text": [
      "127.0.0.1 - - [03/Apr/2021 17:13:23] \"\u001b[37mPOST /get-locations HTTP/1.1\u001b[0m\" 200 -\n",
      "127.0.0.1 - - [03/Apr/2021 17:13:34] \"\u001b[37mOPTIONS /get-locations HTTP/1.1\u001b[0m\" 200 -\n"
     ]
    },
    {
     "name": "stdout",
     "output_type": "stream",
     "text": [
      "Tekstas Lietuva Vilnius, Texas\n"
     ]
    },
    {
     "name": "stderr",
     "output_type": "stream",
     "text": [
      "127.0.0.1 - - [03/Apr/2021 17:13:45] \"\u001b[37mPOST /get-locations HTTP/1.1\u001b[0m\" 200 -\n",
      "127.0.0.1 - - [03/Apr/2021 17:14:12] \"\u001b[37mOPTIONS /get-locations HTTP/1.1\u001b[0m\" 200 -\n"
     ]
    },
    {
     "name": "stdout",
     "output_type": "stream",
     "text": [
      "\n",
      "Texas\n",
      "Texas\n",
      "Texas\n"
     ]
    },
    {
     "name": "stderr",
     "output_type": "stream",
     "text": [
      "127.0.0.1 - - [03/Apr/2021 17:14:58] \"\u001b[37mPOST /get-locations HTTP/1.1\u001b[0m\" 200 -\n",
      "127.0.0.1 - - [03/Apr/2021 17:14:59] \"\u001b[37mPOST /get-locations HTTP/1.1\u001b[0m\" 200 -\n",
      "127.0.0.1 - - [03/Apr/2021 17:14:59] \"\u001b[37mPOST /get-locations HTTP/1.1\u001b[0m\" 200 -\n",
      "127.0.0.1 - - [03/Apr/2021 17:15:00] \"\u001b[37mPOST /get-locations HTTP/1.1\u001b[0m\" 200 -\n",
      "127.0.0.1 - - [03/Apr/2021 17:15:28] \"\u001b[37mOPTIONS /get-locations HTTP/1.1\u001b[0m\" 200 -\n"
     ]
    },
    {
     "name": "stdout",
     "output_type": "stream",
     "text": [
      "Texas\n"
     ]
    },
    {
     "name": "stderr",
     "output_type": "stream",
     "text": [
      "127.0.0.1 - - [03/Apr/2021 17:15:40] \"\u001b[37mPOST /get-locations HTTP/1.1\u001b[0m\" 200 -\n",
      "127.0.0.1 - - [03/Apr/2021 17:17:56] \"\u001b[37mOPTIONS /get-locations HTTP/1.1\u001b[0m\" 200 -\n"
     ]
    },
    {
     "name": "stdout",
     "output_type": "stream",
     "text": [
      "Texas\n"
     ]
    },
    {
     "name": "stderr",
     "output_type": "stream",
     "text": [
      "127.0.0.1 - - [03/Apr/2021 17:18:05] \"\u001b[37mPOST /get-locations HTTP/1.1\u001b[0m\" 200 -\n",
      "127.0.0.1 - - [03/Apr/2021 17:19:13] \"\u001b[37mOPTIONS /get-locations HTTP/1.1\u001b[0m\" 200 -\n"
     ]
    },
    {
     "name": "stdout",
     "output_type": "stream",
     "text": [
      "Texas\n"
     ]
    },
    {
     "name": "stderr",
     "output_type": "stream",
     "text": [
      "127.0.0.1 - - [03/Apr/2021 17:19:23] \"\u001b[37mPOST /get-locations HTTP/1.1\u001b[0m\" 200 -\n",
      "127.0.0.1 - - [03/Apr/2021 17:20:34] \"\u001b[37mOPTIONS /get-locations HTTP/1.1\u001b[0m\" 200 -\n"
     ]
    },
    {
     "name": "stdout",
     "output_type": "stream",
     "text": [
      "Texas\n"
     ]
    },
    {
     "name": "stderr",
     "output_type": "stream",
     "text": [
      "127.0.0.1 - - [03/Apr/2021 17:20:44] \"\u001b[37mPOST /get-locations HTTP/1.1\u001b[0m\" 200 -\n",
      "127.0.0.1 - - [03/Apr/2021 17:22:07] \"\u001b[37mOPTIONS /get-locations HTTP/1.1\u001b[0m\" 200 -\n"
     ]
    },
    {
     "name": "stdout",
     "output_type": "stream",
     "text": [
      "Texas\n"
     ]
    },
    {
     "name": "stderr",
     "output_type": "stream",
     "text": [
      "127.0.0.1 - - [03/Apr/2021 17:22:17] \"\u001b[37mPOST /get-locations HTTP/1.1\u001b[0m\" 200 -\n",
      "127.0.0.1 - - [03/Apr/2021 17:22:34] \"\u001b[37mOPTIONS /get-locations HTTP/1.1\u001b[0m\" 200 -\n"
     ]
    },
    {
     "name": "stdout",
     "output_type": "stream",
     "text": [
      "Texas, Lithuania, USA\n"
     ]
    },
    {
     "name": "stderr",
     "output_type": "stream",
     "text": [
      "127.0.0.1 - - [03/Apr/2021 17:22:45] \"\u001b[37mPOST /get-locations HTTP/1.1\u001b[0m\" 200 -\n",
      "127.0.0.1 - - [03/Apr/2021 17:24:20] \"\u001b[37mOPTIONS /get-locations HTTP/1.1\u001b[0m\" 200 -\n"
     ]
    },
    {
     "name": "stdout",
     "output_type": "stream",
     "text": [
      "Texas, Lithuania, Vilnius\n"
     ]
    },
    {
     "name": "stderr",
     "output_type": "stream",
     "text": [
      "127.0.0.1 - - [03/Apr/2021 17:24:30] \"\u001b[37mPOST /get-locations HTTP/1.1\u001b[0m\" 200 -\n",
      "127.0.0.1 - - [03/Apr/2021 17:35:28] \"\u001b[37mOPTIONS /get-locations HTTP/1.1\u001b[0m\" 200 -\n"
     ]
    },
    {
     "name": "stdout",
     "output_type": "stream",
     "text": [
      "Texas, Lithuania\n"
     ]
    },
    {
     "name": "stderr",
     "output_type": "stream",
     "text": [
      "127.0.0.1 - - [03/Apr/2021 17:35:39] \"\u001b[37mPOST /get-locations HTTP/1.1\u001b[0m\" 200 -\n",
      "127.0.0.1 - - [03/Apr/2021 17:36:10] \"\u001b[37mOPTIONS /get-locations HTTP/1.1\u001b[0m\" 200 -\n"
     ]
    },
    {
     "name": "stdout",
     "output_type": "stream",
     "text": [
      "Texas, Lithuania\n"
     ]
    },
    {
     "name": "stderr",
     "output_type": "stream",
     "text": [
      "127.0.0.1 - - [03/Apr/2021 17:36:21] \"\u001b[37mPOST /get-locations HTTP/1.1\u001b[0m\" 200 -\n",
      "127.0.0.1 - - [03/Apr/2021 17:37:38] \"\u001b[37mOPTIONS /get-locations HTTP/1.1\u001b[0m\" 200 -\n"
     ]
    },
    {
     "name": "stdout",
     "output_type": "stream",
     "text": [
      "Texas\n"
     ]
    },
    {
     "name": "stderr",
     "output_type": "stream",
     "text": [
      "127.0.0.1 - - [03/Apr/2021 17:37:48] \"\u001b[37mPOST /get-locations HTTP/1.1\u001b[0m\" 200 -\n",
      "127.0.0.1 - - [03/Apr/2021 17:38:29] \"\u001b[37mOPTIONS /get-locations HTTP/1.1\u001b[0m\" 200 -\n"
     ]
    },
    {
     "name": "stdout",
     "output_type": "stream",
     "text": [
      "Texas\n"
     ]
    },
    {
     "name": "stderr",
     "output_type": "stream",
     "text": [
      "127.0.0.1 - - [03/Apr/2021 17:38:39] \"\u001b[37mPOST /get-locations HTTP/1.1\u001b[0m\" 200 -\n",
      "127.0.0.1 - - [03/Apr/2021 17:39:12] \"\u001b[37mOPTIONS /get-locations HTTP/1.1\u001b[0m\" 200 -\n"
     ]
    },
    {
     "name": "stdout",
     "output_type": "stream",
     "text": [
      "Texas, Lithuania\n"
     ]
    },
    {
     "name": "stderr",
     "output_type": "stream",
     "text": [
      "127.0.0.1 - - [03/Apr/2021 17:39:23] \"\u001b[37mPOST /get-locations HTTP/1.1\u001b[0m\" 200 -\n",
      "127.0.0.1 - - [03/Apr/2021 17:39:51] \"\u001b[37mOPTIONS /get-locations HTTP/1.1\u001b[0m\" 200 -\n"
     ]
    },
    {
     "name": "stdout",
     "output_type": "stream",
     "text": [
      "Texas, Lithuania\n"
     ]
    },
    {
     "name": "stderr",
     "output_type": "stream",
     "text": [
      "127.0.0.1 - - [03/Apr/2021 17:40:02] \"\u001b[37mPOST /get-locations HTTP/1.1\u001b[0m\" 200 -\n",
      "127.0.0.1 - - [03/Apr/2021 17:40:04] \"\u001b[37mOPTIONS /get-locations HTTP/1.1\u001b[0m\" 200 -\n"
     ]
    },
    {
     "name": "stdout",
     "output_type": "stream",
     "text": [
      "Texas, Lithuania\n"
     ]
    },
    {
     "name": "stderr",
     "output_type": "stream",
     "text": [
      "127.0.0.1 - - [03/Apr/2021 17:40:15] \"\u001b[37mPOST /get-locations HTTP/1.1\u001b[0m\" 200 -\n",
      "127.0.0.1 - - [03/Apr/2021 17:41:12] \"\u001b[37mOPTIONS /get-locations HTTP/1.1\u001b[0m\" 200 -\n"
     ]
    },
    {
     "name": "stdout",
     "output_type": "stream",
     "text": [
      "Texas, Lithuania\n"
     ]
    },
    {
     "name": "stderr",
     "output_type": "stream",
     "text": [
      "127.0.0.1 - - [03/Apr/2021 17:41:22] \"\u001b[37mPOST /get-locations HTTP/1.1\u001b[0m\" 200 -\n",
      "127.0.0.1 - - [03/Apr/2021 17:42:17] \"\u001b[37mOPTIONS /get-locations HTTP/1.1\u001b[0m\" 200 -\n"
     ]
    },
    {
     "name": "stdout",
     "output_type": "stream",
     "text": [
      "Texas, Lithuania\n"
     ]
    },
    {
     "name": "stderr",
     "output_type": "stream",
     "text": [
      "127.0.0.1 - - [03/Apr/2021 17:42:28] \"\u001b[37mPOST /get-locations HTTP/1.1\u001b[0m\" 200 -\n",
      "127.0.0.1 - - [03/Apr/2021 17:44:49] \"\u001b[37mOPTIONS /get-locations HTTP/1.1\u001b[0m\" 200 -\n"
     ]
    },
    {
     "name": "stdout",
     "output_type": "stream",
     "text": [
      "Texas, Vilnius,\n"
     ]
    },
    {
     "name": "stderr",
     "output_type": "stream",
     "text": [
      "127.0.0.1 - - [03/Apr/2021 17:44:59] \"\u001b[37mPOST /get-locations HTTP/1.1\u001b[0m\" 200 -\n",
      "127.0.0.1 - - [03/Apr/2021 17:46:01] \"\u001b[37mOPTIONS /get-locations HTTP/1.1\u001b[0m\" 200 -\n"
     ]
    },
    {
     "name": "stdout",
     "output_type": "stream",
     "text": [
      "Texas lietuva Lithuania Vilnius\n"
     ]
    },
    {
     "name": "stderr",
     "output_type": "stream",
     "text": [
      "127.0.0.1 - - [03/Apr/2021 17:46:11] \"\u001b[37mPOST /get-locations HTTP/1.1\u001b[0m\" 200 -\n",
      "127.0.0.1 - - [03/Apr/2021 17:47:00] \"\u001b[37mOPTIONS /get-locations HTTP/1.1\u001b[0m\" 200 -\n"
     ]
    },
    {
     "name": "stdout",
     "output_type": "stream",
     "text": [
      "Texas, Virginia Lithuania\n"
     ]
    },
    {
     "name": "stderr",
     "output_type": "stream",
     "text": [
      "127.0.0.1 - - [03/Apr/2021 17:47:10] \"\u001b[37mPOST /get-locations HTTP/1.1\u001b[0m\" 200 -\n",
      "127.0.0.1 - - [03/Apr/2021 17:47:52] \"\u001b[37mOPTIONS /get-locations HTTP/1.1\u001b[0m\" 200 -\n"
     ]
    },
    {
     "name": "stdout",
     "output_type": "stream",
     "text": [
      "Texas, Vilnius, Lithuania\n"
     ]
    },
    {
     "name": "stderr",
     "output_type": "stream",
     "text": [
      "127.0.0.1 - - [03/Apr/2021 17:48:02] \"\u001b[37mPOST /get-locations HTTP/1.1\u001b[0m\" 200 -\n",
      "127.0.0.1 - - [03/Apr/2021 17:50:38] \"\u001b[37mOPTIONS /get-locations HTTP/1.1\u001b[0m\" 200 -\n"
     ]
    },
    {
     "name": "stdout",
     "output_type": "stream",
     "text": [
      "Texas gyveno Petras ir Gytis taip pat Vilnius ir Lithuania\n"
     ]
    },
    {
     "name": "stderr",
     "output_type": "stream",
     "text": [
      "127.0.0.1 - - [03/Apr/2021 17:50:48] \"\u001b[37mPOST /get-locations HTTP/1.1\u001b[0m\" 200 -\n",
      "127.0.0.1 - - [03/Apr/2021 17:54:41] \"\u001b[37mOPTIONS /get-locations HTTP/1.1\u001b[0m\" 200 -\n"
     ]
    },
    {
     "name": "stdout",
     "output_type": "stream",
     "text": [
      "The Seven Wonders were first defined as themata (Greek for 'things to be seen' which, in today's common English, we would phrase as 'must-sees') by Philo of Byzantium in 225 BCE, in his work On The Seven Wonders. Other writers on the Seven Wonders include Herodotus, Callimachus of Cyrene, and Antipater of Sidon. Of the original seven, only the Great Pyramid exists today.\n",
      "\n",
      "Great Pyramid at Giza\n",
      "The Great Pyramid at Giza was constructed between 2584 and 2561 BCE for the Egyptian Pharaoh Khufu (known in Greek as 'Cheops') and was the tallest manmade structure in the world for almost 4,000 years. Excavations of the interior of the pyramid were only initiated in earnest in the late 18th and early 19th centuries CE and so the intricacies of the interior which so intrigue modern people were unknown to the ancient writers. It was the structure itself with its perfect symmetry and imposing height which impressed ancient visitors.\n"
     ]
    },
    {
     "name": "stderr",
     "output_type": "stream",
     "text": [
      "127.0.0.1 - - [03/Apr/2021 17:54:51] \"\u001b[37mPOST /get-locations HTTP/1.1\u001b[0m\" 200 -\n",
      "127.0.0.1 - - [03/Apr/2021 18:01:23] \"\u001b[37mOPTIONS /get-locations HTTP/1.1\u001b[0m\" 200 -\n"
     ]
    },
    {
     "name": "stdout",
     "output_type": "stream",
     "text": [
      "The Seven Wonders were first defined as themata (Greek for 'things to be seen' which, in today's common English, we would phrase as 'must-sees') by Philo of Byzantium in 225 BCE, in his work On The Seven Wonders. Other writers on the Seven Wonders include Herodotus, Callimachus of Cyrene, and Antipater of Sidon. Of the original seven, only the Great Pyramid exists today.\n",
      "\n",
      "Great Pyramid at Giza\n",
      "The Great Pyramid at Giza was constructed between 2584 and 2561 BCE for the Egyptian Pharaoh Khufu (known in Greek as 'Cheops') and was the tallest manmade structure in the world for almost 4,000 years. Excavations of the interior of the pyramid were only initiated in earnest in the late 18th and early 19th centuries CE and so the intricacies of the interior which so intrigue modern people were unknown to the ancient writers. It was the structure itself with its perfect symmetry and imposing height which impressed ancient visitors.\n"
     ]
    },
    {
     "name": "stderr",
     "output_type": "stream",
     "text": [
      "127.0.0.1 - - [03/Apr/2021 18:01:35] \"\u001b[37mPOST /get-locations HTTP/1.1\u001b[0m\" 200 -\n",
      "127.0.0.1 - - [03/Apr/2021 18:07:28] \"\u001b[37mOPTIONS /get-locations HTTP/1.1\u001b[0m\" 200 -\n"
     ]
    },
    {
     "name": "stdout",
     "output_type": "stream",
     "text": [
      "The Seven Wonders were first defined as themata (Greek for 'things to be seen' which, in today's common English, we would phrase as 'must-sees') by Philo of Byzantium in 225 BCE, in his work On The Seven Wonders. Other writers on the Seven Wonders include Herodotus, Callimachus of Cyrene, and Antipater of Sidon. Of the original seven, only the Great Pyramid exists today.\n",
      "\n",
      "Great Pyramid at Giza\n",
      "The Great Pyramid at Giza was constructed between 2584 and 2561 BCE for the Egyptian Pharaoh Khufu (known in Greek as 'Cheops') and was the tallest manmade structure in the world for almost 4,000 years. Excavations of the interior of the pyramid were only initiated in earnest in the late 18th and early 19th centuries CE and so the intricacies of the interior which so intrigue modern people were unknown to the ancient writers. It was the structure itself with its perfect symmetry and imposing height which impressed ancient visitors.\n"
     ]
    },
    {
     "name": "stderr",
     "output_type": "stream",
     "text": [
      "127.0.0.1 - - [03/Apr/2021 18:07:38] \"\u001b[37mPOST /get-locations HTTP/1.1\u001b[0m\" 200 -\n"
     ]
    }
   ],
   "source": [
    "from flask import Flask\n",
    "import spacy\n",
    "import json\n",
    "from flask import request\n",
    "from flask import jsonify\n",
    "from flask_cors import CORS\n",
    "from nltk.tokenize import RegexpTokenizer\n",
    "\n",
    "class Loc:\n",
    "    def __init__(self, x, y, z): \n",
    "        self.type = x\n",
    "        self.text = y\n",
    "        self.text_location = z\n",
    "    def toJSON(self):\n",
    "        return json.dumps(self, default=lambda o: o.__dict__, sort_keys=True)\n",
    "        \n",
    "\n",
    "app = Flask(__name__)\n",
    "CORS(app)\n",
    "@app.route(\"/get-locations\", methods = ['POST'])\n",
    "def locations():\n",
    "    content = request.get_json()\n",
    "    print(content['text'])\n",
    "    nlp = spacy.load('en_core_web_lg')\n",
    "    gpe = []\n",
    "    loc = []\n",
    "    location = []\n",
    "    list_1 = []\n",
    "\n",
    "    doc = nlp(content['text'])\n",
    "    for ent in doc.ents:\n",
    "        if (ent.label_ == 'GPE'):\n",
    "            obj =Loc(\"GPE\", ent.text, [ent.start_char, ent.end_char])\n",
    "            list_1.append(obj.toJSON())\n",
    "            gpe.append(ent.text)\n",
    "        elif (ent.label_ == 'LOC'):\n",
    "            obj =Loc('LOC', ent.text, [ent.start_char, ent.end_char])\n",
    "            list_1.append(obj.toJSON())\n",
    "            loc.append(ent.text)\n",
    "    \n",
    "    response = jsonify(list_1)\n",
    "    # Enable Access-Control-Allow-Origin\n",
    "    response.headers.add(\"Access-Control-Allow-Origin\", \"*\")\n",
    "    return response\n",
    "\n",
    "if __name__ == \"__main__\":\n",
    "    app.run()"
   ]
  },
  {
   "cell_type": "code",
   "execution_count": null,
   "metadata": {},
   "outputs": [
    {
     "name": "stdout",
     "output_type": "stream",
     "text": [
      "Requirement already satisfied: socket.py in c:\\python39\\lib\\site-packages (0.1.0)\n"
     ]
    }
   ],
   "source": []
  },
  {
   "cell_type": "code",
   "execution_count": null,
   "metadata": {},
   "outputs": [],
   "source": []
  },
  {
   "cell_type": "code",
   "execution_count": null,
   "metadata": {},
   "outputs": [],
   "source": []
  }
 ],
 "metadata": {
  "kernelspec": {
   "display_name": "Python [conda env:nlp_vu]",
   "language": "python",
   "name": "conda-env-nlp_vu-py"
  },
  "language_info": {
   "codemirror_mode": {
    "name": "ipython",
    "version": 3
   },
   "file_extension": ".py",
   "mimetype": "text/x-python",
   "name": "python",
   "nbconvert_exporter": "python",
   "pygments_lexer": "ipython3",
   "version": "3.7.9"
  }
 },
 "nbformat": 4,
 "nbformat_minor": 5
}
