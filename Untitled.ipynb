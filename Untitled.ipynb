{
 "cells": [
  {
   "cell_type": "code",
   "execution_count": null,
   "id": "judicial-amsterdam",
   "metadata": {},
   "outputs": [],
   "source": [
    "from flask import Flask\n",
    "import spacy\n",
    "import json\n",
    "import re\n",
    "import string\n",
    "import geograpy\n",
    "from geograpy import places\n",
    "from flask import request\n",
    "from flask import jsonify\n",
    "from flask_cors import CORS\n",
    "from nltk.tokenize import RegexpTokenizer\n",
    "\n",
    "class Loc:\n",
    "    def __init__(self, x, y): \n",
    "        self.type = x\n",
    "        self.text = y\n",
    "    def toJSON(self):\n",
    "        return json.dumps(self, default=lambda o: o.__dict__, sort_keys=True)\n",
    "        \n",
    "\n",
    "app = Flask(__name__)\n",
    "CORS(app)\n",
    "@app.route(\"/get-locations\", methods = ['POST'])\n",
    "def locations():\n",
    "    content = request.get_json()\n",
    "    print(content['text'])\n",
    "    nlp = spacy.load('en_core_web_lg')\n",
    "    list_1 = []\n",
    "    text = content['text']\n",
    "    rem_punct = re.sub('[^A-Za-z0-9]+', ' ', text)\n",
    "    \n",
    "    doc = nlp(rem_punct)\n",
    "    arr = []\n",
    "    for ent in doc.ents:\n",
    "        arr.append(ent.text);\n",
    "        if (ent.label_ == 'GPE'):\n",
    "            obj =Loc(\"GPE\", ent.text)\n",
    "            list_1.append(obj.toJSON())\n",
    "        elif (ent.label_ == 'LOC'):\n",
    "            obj =Loc('LOC', ent.text)\n",
    "            list_1.append(obj.toJSON())\n",
    "    \n",
    "    pc = places.PlaceContext(arr)\n",
    "    pc.set_countries()\n",
    "    print(pc.countries) #['United States']\n",
    "\n",
    "    response = jsonify(list_1)\n",
    "    # Enable Access-Control-Allow-Origin\n",
    "    response.headers.add(\"Access-Control-Allow-Origin\", \"*\")\n",
    "    return response\n",
    "\n",
    "if __name__ == \"__main__\":\n",
    "    app.run()"
   ]
  },
  {
   "cell_type": "code",
   "execution_count": 17,
   "id": "heavy-seeker",
   "metadata": {},
   "outputs": [
    {
     "name": "stdout",
     "output_type": "stream",
     "text": [
      "[]\n",
      "['Taiwan', 'New', 'New Zealand', 'Uganda', 'Djibouti']\n"
     ]
    }
   ],
   "source": [
    "import nltk\n",
    "import geograpy\n",
    "from geograpy import extraction\n",
    "from geograpy import places\n",
    "e = extraction.Extractor(text='The Philippine Islands, Taiwan Sri Lanka, New Guinea Sumatra, New Zealand Then Borneo, and Vietnam Tunisia, Morocco, Uganda, Angola Zimbabwe, Djibouti, Botswana')\n",
    "e.find_geoEntities()\n",
    "places = geograpy.get_geoPlace_context(text='The Philippine Islands')\n",
    "print(places.)\n",
    "\n",
    "# You can now access all of the places found by the Extractor\n",
    "print(e.places)"
   ]
  },
  {
   "cell_type": "code",
   "execution_count": null,
   "id": "forced-surveillance",
   "metadata": {},
   "outputs": [],
   "source": []
  },
  {
   "cell_type": "code",
   "execution_count": null,
   "id": "turned-season",
   "metadata": {},
   "outputs": [],
   "source": []
  }
 ],
 "metadata": {
  "kernelspec": {
   "display_name": "Python [conda env:nlp_vu] *",
   "language": "python",
   "name": "conda-env-nlp_vu-py"
  },
  "language_info": {
   "codemirror_mode": {
    "name": "ipython",
    "version": 3
   },
   "file_extension": ".py",
   "mimetype": "text/x-python",
   "name": "python",
   "nbconvert_exporter": "python",
   "pygments_lexer": "ipython3",
   "version": "3.7.9"
  }
 },
 "nbformat": 4,
 "nbformat_minor": 5
}
