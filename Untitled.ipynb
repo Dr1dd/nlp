{
 "cells": [
  {
   "cell_type": "code",
   "execution_count": null,
   "id": "judicial-amsterdam",
   "metadata": {},
   "outputs": [],
   "source": [
    "from flask import Flask\n",
    "import spacy\n",
    "import json\n",
    "import re\n",
    "import string\n",
    "from spacy import displacy\n",
    "from flask import request\n",
    "from flask import jsonify\n",
    "from flask_cors import CORS\n",
    "from nltk.tokenize import RegexpTokenizer\n",
    "\n",
    "class Loc:\n",
    "    def __init__(self, x, y): \n",
    "        self.type = x\n",
    "        self.text = y\n",
    "    def toJSON(self):\n",
    "        return json.dumps(self, default=lambda o: o.__dict__, sort_keys=True)\n",
    "        \n",
    "\n",
    "app = Flask(__name__)\n",
    "CORS(app)\n",
    "@app.route(\"/get-locations\", methods = ['POST'])\n",
    "def locations():\n",
    "    content = request.get_json()\n",
    "    nlp = spacy.load('en_core_web_sm')\n",
    "    list_1 = []\n",
    "    text = content['text']\n",
    "\n",
    "    doc = nlp(text)\n",
    "    arr = []\n",
    "    for ent in doc.ents:\n",
    "        arr.append(ent.text);\n",
    "        if (ent.label_ == 'GPE'):\n",
    "            obj =Loc(\"GPE\", ent.text)\n",
    "            list_1.append(obj.toJSON())\n",
    "        elif (ent.label_ == 'LOC'):\n",
    "            obj =Loc('LOC', ent.text)\n",
    "            list_1.append(obj.toJSON())\n",
    "    \n",
    "    options = {'ents': ['GPE', 'LOC']}\n",
    "    displacy.serve(doc, style=\"ent\", options=options)\n",
    "    \n",
    "    response = jsonify(list_1)\n",
    "    # Enable Access-Control-Allow-Origin\n",
    "    response.headers.add(\"Access-Control-Allow-Origin\", \"*\")\n",
    "    return response\n",
    "\n",
    "if __name__ == \"__main__\":\n",
    "    app.run()"
   ]
  },
  {
   "cell_type": "code",
   "execution_count": null,
   "id": "heavy-seeker",
   "metadata": {},
   "outputs": [],
   "source": [
    "~~~~YO~~~~"
   ]
  },
  {
   "cell_type": "code",
   "execution_count": 9,
   "id": "forced-surveillance",
   "metadata": {},
   "outputs": [
    {
     "name": "stdout",
     "output_type": "stream",
     "text": [
      "Countries, cities:  ['Manchester United', 'United States']\n",
      "Locations:  []\n",
      "Amount of tokens: 22\n",
      "Tokens, which have 'GPE' label: 2\n",
      "Tokens, which have 'LOC' label: 0\n"
     ]
    },
    {
     "data": {
      "image/png": "[encoded data removed]",
      "text/plain": [
       "<Figure size 720x504 with 1 Axes>"
      ]
     },
     "metadata": {},
     "output_type": "display_data"
    },
    {
     "data": {
      "image/png": "[encoded data removed]",
      "text/plain": [
       "<Figure size 432x288 with 1 Axes>"
      ]
     },
     "metadata": {},
     "output_type": "display_data"
    }
   ],
   "source": [
    "import spacy\n",
    "import re\n",
    "import string\n",
    "import json\n",
    "from spacy import displacy\n",
    "from matplotlib import pyplot as plt\n",
    "import numpy as np\n",
    "\n",
    "nlp = spacy.load('en_core_web_sm')\n",
    "text = 'Manchester United, res, United States is looking to sign Harry Kane for $90 million in Harvard University, England'\n",
    "# rem_punct = re.sub('[^A-Za-z0-9]+', ' ', text)\n",
    "\n",
    "doc = nlp(text)\n",
    "arr = []\n",
    "GPE_list = []\n",
    "LOC_list = []\n",
    "all_ents_text = []\n",
    "all_ents_label = []\n",
    "tokenCount= len(doc)\n",
    "for ent in doc.ents:\n",
    "    all_ents_text.append(ent.text)\n",
    "    all_ents_label.append(ent.label_)\n",
    "    if (ent.label_ == 'GPE'):\n",
    "        GPE_list.append(ent.text)\n",
    "    elif (ent.label_ == 'LOC'):\n",
    "        LOC_list.append(ent.text)\n",
    "GPE_count = len(GPE_list)\n",
    "LOC_count = len(LOC_list)\n",
    "print(\"Countries, cities: \", GPE_list)\n",
    "print(\"Locations: \", LOC_list)\n",
    "\n",
    "print(\"Amount of tokens: \" + str(tokenCount))\n",
    "print(\"Tokens, which have 'GPE' label: \" + str(GPE_count))\n",
    "print(\"Tokens, which have 'LOC' label: \" + str(LOC_count))\n",
    "\n",
    "# Pie chart\n",
    "labels = ['Token count', 'Cities, countries', 'Locations']\n",
    "  \n",
    "data = [tokenCount, wordgpe, wordloc]\n",
    "  \n",
    "fig = plt.figure(figsize =(10, 7))\n",
    "plt.pie(data, labels = labels)\n",
    "  \n",
    "plt.show()\n",
    "\n",
    "# Bar chart\n",
    "\n",
    "%matplotlib inline\n",
    "plt.style.use('ggplot')\n",
    "\n",
    "x = ['Total token count', 'Cities, countries', 'Locations']\n",
    "energy = [tokenCount, wordgpe, wordloc]\n",
    "\n",
    "x_pos = [i for i, _ in enumerate(x)]\n",
    "\n",
    "plt.bar(x_pos, energy, color='green')\n",
    "plt.xlabel(\"Token label\")\n",
    "plt.ylabel(\"Token count\")\n",
    "plt.title(\"Cities and locations\")\n",
    "\n",
    "plt.xticks(x_pos, x)\n",
    "\n",
    "plt.show()\n",
    "\n",
    "# Displacy ent visualization\n",
    "# options = {'ents': ['GPE', 'LOC']}\n",
    "# displacy.serve(doc, style=\"ent\", options=options)\n"
   ]
  },
  {
   "cell_type": "code",
   "execution_count": null,
   "id": "fb0c533a",
   "metadata": {},
   "outputs": [],
   "source": []
  }
 ],
 "metadata": {
  "kernelspec": {
   "display_name": "Python [conda env:root]",
   "language": "python",
   "name": "conda-root-py"
  },
  "language_info": {
   "codemirror_mode": {
    "name": "ipython",
    "version": 3
   },
   "file_extension": ".py",
   "mimetype": "text/x-python",
   "name": "python",
   "nbconvert_exporter": "python",
   "pygments_lexer": "ipython3",
   "version": "3.7.9"
  }
 },
 "nbformat": 4,
 "nbformat_minor": 5
}
