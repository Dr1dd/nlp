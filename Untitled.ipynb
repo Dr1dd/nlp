{
 "cells": [
  {
   "cell_type": "code",
   "execution_count": null,
   "id": "judicial-amsterdam",
   "metadata": {},
   "outputs": [],
   "source": [
    "from flask import Flask\n",
    "import spacy\n",
    "import json\n",
    "import re\n",
    "import string\n",
    "from spacy import displacy\n",
    "from flask import request\n",
    "from flask import jsonify\n",
    "from flask_cors import CORS\n",
    "from nltk.tokenize import RegexpTokenizer\n",
    "\n",
    "class Loc:\n",
    "    def __init__(self, x, y): \n",
    "        self.type = x\n",
    "        self.text = y\n",
    "    def toJSON(self):\n",
    "        return json.dumps(self, default=lambda o: o.__dict__, sort_keys=True)\n",
    "        \n",
    "\n",
    "app = Flask(__name__)\n",
    "CORS(app)\n",
    "@app.route(\"/get-locations\", methods = ['POST'])\n",
    "def locations():\n",
    "    content = request.get_json()\n",
    "    nlp = spacy.load('en_core_web_sm')\n",
    "    list_1 = []\n",
    "    text = content['text']\n",
    "\n",
    "    doc = nlp(text)\n",
    "    arr = []\n",
    "    for ent in doc.ents:\n",
    "        arr.append(ent.text);\n",
    "        if (ent.label_ == 'GPE'):\n",
    "            obj =Loc(\"GPE\", ent.text)\n",
    "            list_1.append(obj.toJSON())\n",
    "        elif (ent.label_ == 'LOC'):\n",
    "            obj =Loc('LOC', ent.text)\n",
    "            list_1.append(obj.toJSON())\n",
    "    \n",
    "    options = {'ents': ['GPE', 'LOC']}\n",
    "    displacy.serve(doc, style=\"ent\", options=options)\n",
    "    \n",
    "    response = jsonify(list_1)\n",
    "    # Enable Access-Control-Allow-Origin\n",
    "    response.headers.add(\"Access-Control-Allow-Origin\", \"*\")\n",
    "    return response\n",
    "\n",
    "if __name__ == \"__main__\":\n",
    "    app.run()"
   ]
  },
  {
   "cell_type": "code",
   "execution_count": null,
   "id": "heavy-seeker",
   "metadata": {},
   "outputs": [],
   "source": [
    "~~~~YO~~~~"
   ]
  },
  {
   "cell_type": "code",
   "execution_count": 1,
   "id": "forced-surveillance",
   "metadata": {},
   "outputs": [
    {
     "name": "stdout",
     "output_type": "stream",
     "text": [
      "Manchester United ORG\n",
      "United States GPE\n",
      "Harry Kane PERSON\n",
      "$90 million MONEY\n",
      "Harvard University ORG\n",
      "England GPE\n",
      "\n",
      "\u001b[93m    Serving on port 5000...\u001b[0m\n",
      "    Using the 'ent' visualizer\n",
      "\n"
     ]
    },
    {
     "name": "stderr",
     "output_type": "stream",
     "text": [
      "127.0.0.1 - - [25/Apr/2021 12:26:24] \"GET / HTTP/1.1\" 200 1285\n",
      "127.0.0.1 - - [25/Apr/2021 12:26:24] \"GET /favicon.ico HTTP/1.1\" 200 1285\n"
     ]
    },
    {
     "name": "stdout",
     "output_type": "stream",
     "text": [
      "\n",
      "    Shutting down server on port 5000.\n",
      "\n",
      "['{\"text\": \"United States\", \"type\": \"GPE\"}', '{\"text\": \"England\", \"type\": \"GPE\"}']\n"
     ]
    }
   ],
   "source": [
    "import spacy\n",
    "import re\n",
    "import string\n",
    "import json\n",
    "from spacy import displacy\n",
    "class Loc:\n",
    "    def __init__(self, x, y): \n",
    "        self.type = x\n",
    "        self.text = y\n",
    "    def toJSON(self):\n",
    "        return json.dumps(self, default=lambda o: o.__dict__, sort_keys=True)\n",
    "    \n",
    "nlp = spacy.load('en_core_web_sm')\n",
    "list_1 = []\n",
    "text = 'Manchester United, res, United States is looking to sign Harry Kane for $90 million in Harvard University, England'\n",
    "rem_punct = re.sub('[^A-Za-z0-9]+', ' ', text)\n",
    "\n",
    "doc = nlp(text)\n",
    "arr = []\n",
    "# for ent in text.ents:\n",
    "#     print(ent.text)\n",
    "for ent in doc.ents:\n",
    "    print(ent.text, ent.label_)\n",
    "    arr.append(ent.text);\n",
    "    if (ent.label_ == 'GPE'):\n",
    "        obj =Loc(\"GPE\", ent.text)\n",
    "        list_1.append(obj.toJSON())\n",
    "    elif (ent.label_ == 'LOC'):\n",
    "        obj =Loc('LOC', ent.text)\n",
    "        list_1.append(obj.toJSON())\n",
    "options = {'ents': ['GPE', 'LOC']}\n",
    "displacy.serve(doc, style=\"ent\", options=options)\n",
    "print(list_1)\n"
   ]
  },
  {
   "cell_type": "code",
   "execution_count": 2,
   "id": "turned-season",
   "metadata": {},
   "outputs": [
    {
     "name": "stdout",
     "output_type": "stream",
     "text": [
      "Amount of words: 22\n",
      "Words, which have 'GPE' label: 3\n",
      "Words, which have 'LOC' label: 0\n"
     ]
    }
   ],
   "source": [
    "wordcount = 0\n",
    "wordgpe = 0\n",
    "wordloc = 0\n",
    "for word in doc:\n",
    "    wordcount = wordcount + 1\n",
    "for line in list_1:\n",
    "    if(line.find('GPE') != -1):\n",
    "        textfind = line.find('\"', 10)\n",
    "        text = nlp(line[10:textfind])\n",
    "        for word in text:\n",
    "            wordgpe = wordgpe + 1\n",
    "    if(line.find('LOC') != -1):\n",
    "        textfind = line.find('\"', 10)\n",
    "        text = nlp(line[10:textfind])\n",
    "        for word in text:\n",
    "            wordloc = wordloc + 1\n",
    "print(\"Amount of words: \" + str(wordcount))\n",
    "print(\"Words, which have 'GPE' label: \" + str(wordgpe))\n",
    "print(\"Words, which have 'LOC' label: \" + str(wordloc))"
   ]
  },
  {
   "cell_type": "code",
   "execution_count": null,
   "id": "fb0c533a",
   "metadata": {},
   "outputs": [],
   "source": []
  }
 ],
 "metadata": {
  "kernelspec": {
   "display_name": "Python [conda env:nlp_vu] *",
   "language": "python",
   "name": "conda-env-nlp_vu-py"
  },
  "language_info": {
   "codemirror_mode": {
    "name": "ipython",
    "version": 3
   },
   "file_extension": ".py",
   "mimetype": "text/x-python",
   "name": "python",
   "nbconvert_exporter": "python",
   "pygments_lexer": "ipython3",
   "version": "3.7.9"
  }
 },
 "nbformat": 4,
 "nbformat_minor": 5
}
