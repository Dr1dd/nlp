{
 "cells": [
  {
   "cell_type": "code",
   "execution_count": null,
   "id": "billion-attendance",
   "metadata": {},
   "outputs": [
    {
     "name": "stdout",
     "output_type": "stream",
     "text": [
      " * Serving Flask app \"__main__\" (lazy loading)\n",
      " * Environment: production\n",
      "   WARNING: This is a development server. Do not use it in a production deployment.\n",
      "   Use a production WSGI server instead.\n",
      " * Debug mode: off\n"
     ]
    },
    {
     "name": "stderr",
     "output_type": "stream",
     "text": [
      " * Running on http://127.0.0.1:5000/ (Press CTRL+C to quit)\n",
      "127.0.0.1 - - [08/Mar/2021 18:03:35] \"\u001b[37mOPTIONS /get-locations HTTP/1.1\u001b[0m\" 200 -\n"
     ]
    },
    {
     "name": "stdout",
     "output_type": "stream",
     "text": [
      "\n"
     ]
    },
    {
     "name": "stderr",
     "output_type": "stream",
     "text": [
      "127.0.0.1 - - [08/Mar/2021 18:03:45] \"\u001b[37mPOST /get-locations HTTP/1.1\u001b[0m\" 200 -\n"
     ]
    },
    {
     "name": "stdout",
     "output_type": "stream",
     "text": [
      "[] []\n"
     ]
    },
    {
     "name": "stderr",
     "output_type": "stream",
     "text": [
      "127.0.0.1 - - [08/Mar/2021 18:03:59] \"\u001b[37mOPTIONS /get-locations HTTP/1.1\u001b[0m\" 200 -\n"
     ]
    },
    {
     "name": "stdout",
     "output_type": "stream",
     "text": [
      "Chicken, KFC, Vilnius, \n"
     ]
    },
    {
     "name": "stderr",
     "output_type": "stream",
     "text": [
      "127.0.0.1 - - [08/Mar/2021 18:04:09] \"\u001b[37mPOST /get-locations HTTP/1.1\u001b[0m\" 200 -\n"
     ]
    },
    {
     "name": "stdout",
     "output_type": "stream",
     "text": [
      "[] []\n"
     ]
    },
    {
     "name": "stderr",
     "output_type": "stream",
     "text": [
      "127.0.0.1 - - [08/Mar/2021 18:04:39] \"\u001b[37mOPTIONS /get-locations HTTP/1.1\u001b[0m\" 200 -\n"
     ]
    },
    {
     "name": "stdout",
     "output_type": "stream",
     "text": [
      "Chicken, KFC, Vilnius  Riga  New York\n"
     ]
    },
    {
     "name": "stderr",
     "output_type": "stream",
     "text": [
      "127.0.0.1 - - [08/Mar/2021 18:04:49] \"\u001b[37mPOST /get-locations HTTP/1.1\u001b[0m\" 200 -\n"
     ]
    },
    {
     "name": "stdout",
     "output_type": "stream",
     "text": [
      "['Vilnius', 'Riga', 'New York'] []\n"
     ]
    },
    {
     "name": "stderr",
     "output_type": "stream",
     "text": [
      "127.0.0.1 - - [08/Mar/2021 18:05:09] \"\u001b[37mOPTIONS /get-locations HTTP/1.1\u001b[0m\" 200 -\n"
     ]
    },
    {
     "name": "stdout",
     "output_type": "stream",
     "text": [
      "Chicken, KFC, Vilnius,  Riga  New York\n"
     ]
    },
    {
     "name": "stderr",
     "output_type": "stream",
     "text": [
      "127.0.0.1 - - [08/Mar/2021 18:05:19] \"\u001b[37mPOST /get-locations HTTP/1.1\u001b[0m\" 200 -\n"
     ]
    },
    {
     "name": "stdout",
     "output_type": "stream",
     "text": [
      "['Vilnius', 'Riga', 'New York'] []\n"
     ]
    },
    {
     "name": "stderr",
     "output_type": "stream",
     "text": [
      "127.0.0.1 - - [08/Mar/2021 18:06:14] \"\u001b[37mOPTIONS /get-locations HTTP/1.1\u001b[0m\" 200 -\n"
     ]
    },
    {
     "name": "stdout",
     "output_type": "stream",
     "text": [
      "Born to a poor family in Gori in the Russian Empire (now Georgia), as a youth Stalin joined the Marxist Russian Social Democratic Labour Party.\n"
     ]
    },
    {
     "name": "stderr",
     "output_type": "stream",
     "text": [
      "127.0.0.1 - - [08/Mar/2021 18:06:23] \"\u001b[37mPOST /get-locations HTTP/1.1\u001b[0m\" 200 -\n"
     ]
    },
    {
     "name": "stdout",
     "output_type": "stream",
     "text": [
      "['Gori', 'the Russian Empire', 'Georgia'] []\n"
     ]
    },
    {
     "name": "stderr",
     "output_type": "stream",
     "text": [
      "127.0.0.1 - - [08/Mar/2021 18:09:34] \"\u001b[37mOPTIONS /get-locations HTTP/1.1\u001b[0m\" 200 -\n"
     ]
    },
    {
     "name": "stdout",
     "output_type": "stream",
     "text": [
      "Józef Klemens Piłsudski herbu własnego (ur. 5 grudnia 1867 w Zułowie, zm. 12 maja 1935 w Warszawie) – polski działacz społeczny i niepodległościowy, żołnierz, polityk, mąż stanu; od 1892 członek Polskiej Partii Socjalistycznej i jej przywódca w kraju, twórca Organizacji Bojowej PPS (1904) i Polskiej Organizacji Wojskowej (1914), kierownik Komisji Wojskowej i Tymczasowej Rady Stanu (1917)[2], od 11 listopada 1918 naczelny wódz Armii Polskiej, w latach 1918–1922 naczelnik państwa, pierwszy marszałek Polski (1920);\n"
     ]
    },
    {
     "name": "stderr",
     "output_type": "stream",
     "text": [
      "127.0.0.1 - - [08/Mar/2021 18:09:44] \"\u001b[37mPOST /get-locations HTTP/1.1\u001b[0m\" 200 -\n"
     ]
    },
    {
     "name": "stdout",
     "output_type": "stream",
     "text": [
      "['Zułowie', 'Warszawie'] []\n"
     ]
    },
    {
     "name": "stderr",
     "output_type": "stream",
     "text": [
      "127.0.0.1 - - [08/Mar/2021 18:12:21] \"\u001b[37mOPTIONS /get-locations HTTP/1.1\u001b[0m\" 200 -\n"
     ]
    },
    {
     "name": "stdout",
     "output_type": "stream",
     "text": [
      "mount chiliad\n"
     ]
    },
    {
     "name": "stderr",
     "output_type": "stream",
     "text": [
      "127.0.0.1 - - [08/Mar/2021 18:12:31] \"\u001b[37mPOST /get-locations HTTP/1.1\u001b[0m\" 200 -\n"
     ]
    },
    {
     "name": "stdout",
     "output_type": "stream",
     "text": [
      "[] []\n"
     ]
    },
    {
     "name": "stderr",
     "output_type": "stream",
     "text": [
      "127.0.0.1 - - [08/Mar/2021 18:13:50] \"\u001b[37mOPTIONS /get-locations HTTP/1.1\u001b[0m\" 200 -\n"
     ]
    },
    {
     "name": "stdout",
     "output_type": "stream",
     "text": [
      "K2\n"
     ]
    },
    {
     "name": "stderr",
     "output_type": "stream",
     "text": [
      "127.0.0.1 - - [08/Mar/2021 18:14:01] \"\u001b[37mPOST /get-locations HTTP/1.1\u001b[0m\" 200 -\n"
     ]
    },
    {
     "name": "stdout",
     "output_type": "stream",
     "text": [
      "[] []\n"
     ]
    },
    {
     "name": "stderr",
     "output_type": "stream",
     "text": [
      "127.0.0.1 - - [08/Mar/2021 18:14:55] \"\u001b[37mOPTIONS /get-locations HTTP/1.1\u001b[0m\" 200 -\n"
     ]
    },
    {
     "name": "stdout",
     "output_type": "stream",
     "text": [
      "The highest mountains above sea level are generally not the highest above the surrounding terrain. There is no precise definition of surrounding base, but Denali, Mount Kilimanjaro and Nanga Parbat are possible candidates for the tallest mountain on land by this measure. The bases of mountain islands are below sea level, and given this consideration Mauna Kea (4,207 m (13,802 ft) above sea level) is the world's tallest mountain and volcano, rising about 10,203 m (33,474 ft) from the Pacific Ocean floor. Ojos del Salado has the greatest rise on Earth: 13,420 m (44,029 ft) vertically to the summit[citation needed] from the bottom of the Atacama Trench, which is about 560 km (350 mi) away, although most of this rise is not part of the mountain.\n"
     ]
    },
    {
     "name": "stderr",
     "output_type": "stream",
     "text": [
      "127.0.0.1 - - [08/Mar/2021 18:15:05] \"\u001b[37mPOST /get-locations HTTP/1.1\u001b[0m\" 200 -\n"
     ]
    },
    {
     "name": "stdout",
     "output_type": "stream",
     "text": [
      "[] ['Mount Kilimanjaro', 'the Pacific Ocean', 'Earth', 'the Atacama Trench']\n"
     ]
    },
    {
     "name": "stderr",
     "output_type": "stream",
     "text": [
      "127.0.0.1 - - [08/Mar/2021 18:18:48] \"\u001b[37mOPTIONS /get-locations HTTP/1.1\u001b[0m\" 200 -\n"
     ]
    },
    {
     "name": "stdout",
     "output_type": "stream",
     "text": [
      "The highest mountains above sea level are generally not the highest above the surrounding terrain. There is no precise definition of surrounding base, but Denali, Mount Kilimanjaro and Nanga Parbat are possible candidates for the tallest mountain on land by this measure. The bases of mountain islands are below sea level, and given this consideration Mauna Kea (4,207 m (13,802 ft) above sea level) is the world's tallest mountain and volcano, rising about 10,203 m (33,474 ft) from the Pacific Ocean floor. Ojos del Salado has the greatest rise on Earth: 13,420 m (44,029 ft) vertically to the summit[citation needed] from the bottom of the Atacama Trench, which is about 560 km (350 mi) away, although most of this rise is not part of the mountain.\n"
     ]
    }
   ],
   "source": [
    "from flask import Flask\n",
    "import spacy\n",
    "from flask import request\n",
    "from flask import jsonify\n",
    "from flask_cors import CORS\n",
    "app = Flask(__name__)\n",
    "CORS(app)\n",
    "@app.route(\"/get-locations\", methods = ['POST'])\n",
    "def locations():\n",
    "    content = request.get_json()\n",
    "    print(content['text'])\n",
    "    nlp = spacy.load('en_core_web_lg')\n",
    "    gpe = []\n",
    "    loc = []\n",
    "    doc = nlp(content['text'])\n",
    "    for ent in doc.ents:\n",
    "        if (ent.label_ == 'GPE'):\n",
    "            gpe.append(ent.text)\n",
    "        elif (ent.label_ == 'LOC'):\n",
    "            loc.append(ent.text)\n",
    "    print(gpe, loc)\n",
    "    response = jsonify(gpe, loc)\n",
    "\n",
    "    # Enable Access-Control-Allow-Origin\n",
    "    response.headers.add(\"Access-Control-Allow-Origin\", \"*\")\n",
    "    return response\n",
    "\n",
    "if __name__ == \"__main__\":\n",
    "    app.run()"
   ]
  },
  {
   "cell_type": "code",
   "execution_count": null,
   "id": "coral-enclosure",
   "metadata": {},
   "outputs": [
    {
     "name": "stdout",
     "output_type": "stream",
     "text": [
      "Requirement already satisfied: socket.py in c:\\python39\\lib\\site-packages (0.1.0)\n"
     ]
    }
   ],
   "source": []
  },
  {
   "cell_type": "code",
   "execution_count": null,
   "id": "dynamic-understanding",
   "metadata": {},
   "outputs": [],
   "source": []
  },
  {
   "cell_type": "code",
   "execution_count": null,
   "id": "adolescent-senator",
   "metadata": {},
   "outputs": [],
   "source": []
  }
 ],
 "metadata": {
  "kernelspec": {
   "display_name": "Python [conda env:nlp_vu] *",
   "language": "python",
   "name": "conda-env-nlp_vu-py"
  },
  "language_info": {
   "codemirror_mode": {
    "name": "ipython",
    "version": 3
   },
   "file_extension": ".py",
   "mimetype": "text/x-python",
   "name": "python",
   "nbconvert_exporter": "python",
   "pygments_lexer": "ipython3",
   "version": "3.7.9"
  }
 },
 "nbformat": 4,
 "nbformat_minor": 5
}
